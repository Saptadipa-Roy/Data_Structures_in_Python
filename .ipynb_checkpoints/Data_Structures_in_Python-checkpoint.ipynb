{
 "cells": [
  {
   "cell_type": "markdown",
   "id": "07b36910",
   "metadata": {},
   "source": [
    "Assignments: Data Structures in Python by Saptadipa Roy"
   ]
  },
  {
   "cell_type": "code",
   "execution_count": 1,
   "id": "30f62dee",
   "metadata": {},
   "outputs": [
    {
     "name": "stdout",
     "output_type": "stream",
     "text": [
      "dlroW olleH\n"
     ]
    }
   ],
   "source": [
    "#1.Write a code to reverse a string\n",
    "\n",
    "\n",
    "def reverse_string(s):\n",
    "    return s[::-1]\n",
    "#example:-\n",
    "print(reverse_string(\"Hello World\"))"
   ]
  },
  {
   "cell_type": "code",
   "execution_count": 2,
   "id": "7cfb7bf3",
   "metadata": {},
   "outputs": [
    {
     "name": "stdout",
     "output_type": "stream",
     "text": [
      "3\n"
     ]
    }
   ],
   "source": [
    "#2.Write a code to count number of vowels in a string\n",
    "\n",
    "\n",
    "def count_vowels(s):\n",
    "    vowels=\"aeiouAEIOU\"\n",
    "    return sum(1 for char in s if char in vowels)\n",
    "#example:-\n",
    "print(count_vowels(\"Hello World\"))"
   ]
  },
  {
   "cell_type": "code",
   "execution_count": 3,
   "id": "45884ccd",
   "metadata": {},
   "outputs": [
    {
     "name": "stdout",
     "output_type": "stream",
     "text": [
      "True\n",
      "False\n"
     ]
    }
   ],
   "source": [
    "#3.Write a code to check if a given string is palindrome or not\n",
    "\n",
    "\n",
    "def is_pallindrome(s):\n",
    "    return s==s[::-1]\n",
    "#example\n",
    "print(is_pallindrome(\"abcdcba\"))\n",
    "print(is_pallindrome(\"Hello World\"))"
   ]
  },
  {
   "cell_type": "code",
   "execution_count": 5,
   "id": "1eb64100",
   "metadata": {},
   "outputs": [
    {
     "name": "stdout",
     "output_type": "stream",
     "text": [
      "True\n",
      "False\n"
     ]
    }
   ],
   "source": [
    "#4.Write a code to check if two given strings are anagrams of each other\n",
    "\n",
    "\n",
    "def anagram_check(s1,s2):\n",
    "    return sorted(s1)==sorted(s2)\n",
    "#example:-\n",
    "print(anagram_check(\"listen\",\"silent\"))\n",
    "print(anagram_check(\"Hello\",\"Hole\"))"
   ]
  },
  {
   "cell_type": "code",
   "execution_count": 11,
   "id": "d9fa03bc",
   "metadata": {},
   "outputs": [
    {
     "name": "stdout",
     "output_type": "stream",
     "text": [
      "[0, 12]\n"
     ]
    }
   ],
   "source": [
    "#5.Write a code to find all occuransec of a given substring within another string.\n",
    "\n",
    "\n",
    "def find_substr_occurances(string,substring):\n",
    "    return[i for i in range(len(string)) if string.startswith(substring,i)]\n",
    "#example\n",
    "print(find_substr_occurances(\"Hello world Hello duniya\",\"Hello\"))"
   ]
  },
  {
   "cell_type": "code",
   "execution_count": 15,
   "id": "19bdba83",
   "metadata": {},
   "outputs": [
    {
     "name": "stdout",
     "output_type": "stream",
     "text": [
      "a2b1c5a3\n"
     ]
    }
   ],
   "source": [
    "#6.Write a code to perform basic string compression using the counts of repeated character\n",
    "\n",
    "\n",
    "def compress_string(s):\n",
    "    compressed=[]\n",
    "    count=1\n",
    "    for i in range(1,len(s)):\n",
    "        if s[i] == s[i-1]:\n",
    "            count += 1\n",
    "        else:\n",
    "            compressed.append(s[i-1]+str(count))\n",
    "            count=1\n",
    "    compressed.append(s[-1]+str(count))\n",
    "    return ''.join(compressed)\n",
    "    \n",
    "#example:-\n",
    "print(compress_string(\"aabcccccaaa\"))"
   ]
  },
  {
   "cell_type": "code",
   "execution_count": 18,
   "id": "ce396087",
   "metadata": {},
   "outputs": [
    {
     "name": "stdout",
     "output_type": "stream",
     "text": [
      "True\n",
      "False\n"
     ]
    }
   ],
   "source": [
    "#7.Write a code to determine if a string has all the unique charecters\n",
    "\n",
    "\n",
    "\n",
    "def unique_char(s):\n",
    "    for i in range(len(s)):\n",
    "        for j in range(i+1,len(s)):\n",
    "            #Checking if we have same charecter or not\n",
    "            if s[i]==s[j]:\n",
    "                return False\n",
    "    #No same charecter found so string has all unique charecter\n",
    "    return True\n",
    "\n",
    "print(unique_char(\"abcdefg\"))\n",
    "print(unique_char(\"Hello\"))"
   ]
  },
  {
   "cell_type": "code",
   "execution_count": 21,
   "id": "305790e7",
   "metadata": {},
   "outputs": [
    {
     "name": "stdout",
     "output_type": "stream",
     "text": [
      "HELLO WORLD\n",
      "hello world\n"
     ]
    }
   ],
   "source": [
    "#8.Write a code to convert a given string to upper or lowercase\n",
    "\n",
    "\n",
    "def convert_case(s,to_upper=True):\n",
    "    return s.upper() if to_upper else s.lower()\n",
    "\n",
    "#example:-\n",
    "print(convert_case(\"Hello World\",to_upper=True))\n",
    "print(convert_case(\"Hello World\",to_upper=False))"
   ]
  },
  {
   "cell_type": "code",
   "execution_count": 22,
   "id": "c714fa05",
   "metadata": {},
   "outputs": [
    {
     "name": "stdout",
     "output_type": "stream",
     "text": [
      "5\n"
     ]
    }
   ],
   "source": [
    "#9.Write a code to count the number of words in a string.\n",
    "\n",
    "\n",
    "def count_words(s):\n",
    "    return len(s.split())\n",
    "\n",
    "#example:-\n",
    "print(count_words(\"My name is Saptadipa Roy.\"))"
   ]
  },
  {
   "cell_type": "code",
   "execution_count": 23,
   "id": "17b08642",
   "metadata": {},
   "outputs": [
    {
     "name": "stdout",
     "output_type": "stream",
     "text": [
      "HelloWorld\n"
     ]
    }
   ],
   "source": [
    "#10.Write a code to concatenate two strings without using the + operator\n",
    "\n",
    "\n",
    "def concatenate_str(s1,s2):\n",
    "    return \"{}{}\".format(s1,s2)\n",
    "\n",
    "#example:-\n",
    "print(concatenate_str(\"Hello\",\"World\"))"
   ]
  },
  {
   "cell_type": "code",
   "execution_count": 1,
   "id": "27f79c21",
   "metadata": {},
   "outputs": [
    {
     "name": "stdout",
     "output_type": "stream",
     "text": [
      "[2, 3, 4, 2, 8]\n"
     ]
    }
   ],
   "source": [
    "#11.Write a code to remove all occurrences of a specific element from a list.\n",
    "\n",
    "\n",
    "def remove_element(lst,element):\n",
    "    return [x for x in lst if x != element]\n",
    "\n",
    "#example:-\n",
    "print(remove_element([1,2,3,4,1,2,8],1))"
   ]
  },
  {
   "cell_type": "code",
   "execution_count": 3,
   "id": "a6d1ae46",
   "metadata": {},
   "outputs": [
    {
     "name": "stdout",
     "output_type": "stream",
     "text": [
      "The second largest number in the list [1,2,3,4,5,6] is:\n",
      "5\n"
     ]
    }
   ],
   "source": [
    "#12.Find the second largest number in a given list of integers\n",
    "\n",
    "\n",
    "def second_largest(lst):\n",
    "    unique_list=list(set(lst))\n",
    "    unique_list.sort()\n",
    "    return unique_list[-2]\n",
    "\n",
    "#example:-\n",
    "print(\"The second largest number in the list [1,2,3,4,5,6] is:\")\n",
    "print(second_largest([1,2,3,4,5,6]))"
   ]
  },
  {
   "cell_type": "code",
   "execution_count": 4,
   "id": "aadb97d6",
   "metadata": {},
   "outputs": [
    {
     "name": "stdout",
     "output_type": "stream",
     "text": [
      "{1: 1, 2: 2, 3: 3}\n"
     ]
    }
   ],
   "source": [
    "#13.Count the occurrences of each element in a list and return a dictionary with elements as keys and their counts as values\n",
    "\n",
    "\n",
    "def count_occurrences(lst):\n",
    "    return {x: lst.count(x) for x in set(lst)}\n",
    "\n",
    "# Example usage:\n",
    "print(count_occurrences([1, 2, 2, 3, 3, 3])) "
   ]
  },
  {
   "cell_type": "code",
   "execution_count": 7,
   "id": "5efb0e61",
   "metadata": {},
   "outputs": [
    {
     "name": "stdout",
     "output_type": "stream",
     "text": [
      "Before reversing:[1,2,3,4,5]\n",
      "After reversing:[5, 4, 3, 2, 1]\n"
     ]
    }
   ],
   "source": [
    "#14.Reverse a list in-place without using any built-in reverse function\n",
    "\n",
    "\n",
    "def reverse_list(lst):\n",
    "    left,right=0,len(lst)-1\n",
    "    while left < right:\n",
    "        lst[left],lst[right]=lst[right],lst[left]\n",
    "        left += 1\n",
    "        right -= 1\n",
    "    return lst\n",
    "\n",
    "#example:-\n",
    "print(\"Before reversing:[1,2,3,4,5]\")\n",
    "print(\"After reversing:\"+ str(reverse_list([1,2,3,4,5])))"
   ]
  },
  {
   "cell_type": "code",
   "execution_count": 8,
   "id": "95b96739",
   "metadata": {},
   "outputs": [
    {
     "name": "stdout",
     "output_type": "stream",
     "text": [
      "[1, 2, 3]\n"
     ]
    }
   ],
   "source": [
    "#15.Find and remove duplicates from a list while preserving the original order of elements\n",
    "\n",
    "\n",
    "def remove_duplicates(lst):\n",
    "    seen=set()\n",
    "    result=[]\n",
    "    for item in lst:\n",
    "        if item not in seen:\n",
    "            seen.add(item)\n",
    "            result.append(item)\n",
    "    return result\n",
    "\n",
    "#example:-\n",
    "print(remove_duplicates([1,2,2,3,3,3]))"
   ]
  },
  {
   "cell_type": "code",
   "execution_count": 9,
   "id": "98a99303",
   "metadata": {},
   "outputs": [
    {
     "name": "stdout",
     "output_type": "stream",
     "text": [
      "True\n",
      "True\n",
      "False\n"
     ]
    }
   ],
   "source": [
    "#16.Check if a given list is sorted (either in ascending or descending order)\n",
    "\n",
    "\n",
    "def is_sorted(lst):\n",
    "    return lst == sorted(lst) or lst == sorted(lst, reverse=True)\n",
    "\n",
    "# Example usage:\n",
    "print(is_sorted([1, 2, 3]))    \n",
    "print(is_sorted([3, 2, 1]))    \n",
    "print(is_sorted([1, 3, 2]))"
   ]
  },
  {
   "cell_type": "code",
   "execution_count": 10,
   "id": "b6cff7e9",
   "metadata": {},
   "outputs": [
    {
     "name": "stdout",
     "output_type": "stream",
     "text": [
      "[1, 2, 3, 4, 5, 6]\n"
     ]
    }
   ],
   "source": [
    "#17.Merge two sorted lists into a single sorted list\n",
    "\n",
    "\n",
    "def merge_sorted_lists(lst1, lst2):\n",
    "    return sorted(lst1 + lst2)\n",
    "\n",
    "# Example usage:\n",
    "print(merge_sorted_lists([1, 3, 5], [2, 4, 6]))"
   ]
  },
  {
   "cell_type": "code",
   "execution_count": 12,
   "id": "14eff795",
   "metadata": {},
   "outputs": [
    {
     "name": "stdout",
     "output_type": "stream",
     "text": [
      "[2, 3]\n"
     ]
    }
   ],
   "source": [
    "#18.Find the intersection of two given lists\n",
    "\n",
    "\n",
    "def intersection(lst1,lst2):\n",
    "    return list(set(lst1) & set(lst2))\n",
    "\n",
    "#example:-\n",
    "print(intersection([1,2,3],[2,3,4]))"
   ]
  },
  {
   "cell_type": "code",
   "execution_count": 14,
   "id": "a2edcba1",
   "metadata": {},
   "outputs": [
    {
     "name": "stdout",
     "output_type": "stream",
     "text": [
      "[1, 2, 3, 4, 5]\n"
     ]
    }
   ],
   "source": [
    "#19.Find the union of two lists without duplicates\n",
    "\n",
    "\n",
    "def unique(lst1,lst2):\n",
    "    return list(set(lst1) | set(lst2))\n",
    "#exaple:-\n",
    "print(unique([1,2,3],[2,3,4,5]))"
   ]
  },
  {
   "cell_type": "code",
   "execution_count": 15,
   "id": "51dedf6f",
   "metadata": {},
   "outputs": [
    {
     "name": "stdout",
     "output_type": "stream",
     "text": [
      "[2, 1, 5, 4, 3]\n"
     ]
    }
   ],
   "source": [
    "#20.Shuffle a given list randomly without using any built-in shuffle function\n",
    "import random\n",
    "\n",
    "def shuffle_list(lst):\n",
    "    for i in range(len(lst) - 1, 0, -1):\n",
    "        j = random.randint(0, i)\n",
    "        lst[i], lst[j] = lst[j], lst[i]\n",
    "    return lst\n",
    "\n",
    "# Example usage:\n",
    "print(shuffle_list([1, 2, 3, 4, 5]))"
   ]
  },
  {
   "cell_type": "code",
   "execution_count": 16,
   "id": "170e8b18",
   "metadata": {},
   "outputs": [
    {
     "name": "stdout",
     "output_type": "stream",
     "text": [
      "(2, 3)\n"
     ]
    }
   ],
   "source": [
    "#21.Take two tuples as input and return a new tuple containing elements that are common to both input tuples\n",
    "\n",
    "\n",
    "def common_element(tuple1,tuple2):\n",
    "    return tuple(set(tuple1) & set(tuple2))\n",
    "\n",
    "#example:-\n",
    "print(common_element((1,2,3),(2,3,4)))"
   ]
  },
  {
   "cell_type": "code",
   "execution_count": 18,
   "id": "6ac2850a",
   "metadata": {},
   "outputs": [
    {
     "name": "stdout",
     "output_type": "stream",
     "text": [
      "Enter the first set of integers separated by commas: 1,2,3\n",
      "Enter the second set of integers separated by commas: 2,3,4,5\n",
      "{2, 3}\n"
     ]
    }
   ],
   "source": [
    "#22. Prompt the user to enter two sets of integers separated by commas. Then, print the intersection of these two sets\n",
    "\n",
    "\n",
    "def prompt_and_intersection():\n",
    "    set1 = set(map(int, input(\"Enter the first set of integers separated by commas: \").split(',')))\n",
    "    set2 = set(map(int, input(\"Enter the second set of integers separated by commas: \").split(',')))\n",
    "    print(set1 & set2)\n",
    "\n",
    "# Example usage:\n",
    "prompt_and_intersection()\n"
   ]
  },
  {
   "cell_type": "code",
   "execution_count": 19,
   "id": "df3f8e06",
   "metadata": {},
   "outputs": [
    {
     "name": "stdout",
     "output_type": "stream",
     "text": [
      "(1, 2, 3, 4)\n"
     ]
    }
   ],
   "source": [
    "#23.Concatenate two tuples. The function should take two tuples as input and return a new tuple containing elements from both input tuples.\n",
    "\n",
    "\n",
    "\n",
    "def concatenate_tuples(tuple1, tuple2):\n",
    "    return tuple1 + tuple2\n",
    "\n",
    "# Example usage:\n",
    "print(concatenate_tuples((1, 2), (3, 4)))\n"
   ]
  },
  {
   "cell_type": "code",
   "execution_count": 20,
   "id": "2d9f1b44",
   "metadata": {},
   "outputs": [
    {
     "name": "stdout",
     "output_type": "stream",
     "text": [
      "Enter the first set of strings separated by commas: 1,2,3\n",
      "Enter the second set of strings separated by commas: 2,3,4\n",
      "{'1'}\n"
     ]
    }
   ],
   "source": [
    "#24.Prompt the user to input two sets of strings. Then, print the elements that are present in the first set but not in the second set.\n",
    "\n",
    "\n",
    "def prompt_and_difference():\n",
    "    set1 = set(input(\"Enter the first set of strings separated by commas: \").split(','))\n",
    "    set2 = set(input(\"Enter the second set of strings separated by commas: \").split(','))\n",
    "    print(set1 - set2)\n",
    "\n",
    "# Example usage:\n",
    "prompt_and_difference()"
   ]
  },
  {
   "cell_type": "code",
   "execution_count": 21,
   "id": "41c030ec",
   "metadata": {},
   "outputs": [
    {
     "name": "stdout",
     "output_type": "stream",
     "text": [
      "(2, 3, 4)\n"
     ]
    }
   ],
   "source": [
    "#25.Create a code that takes a tuple and two integers as input. The function should return a new tuple containing elements from the original tuple within the specified range of indices.\n",
    "\n",
    "\n",
    "def slice_tuple(t, start, end):\n",
    "    return t[start:end]\n",
    "\n",
    "# Example usage:\n",
    "print(slice_tuple((1, 2, 3, 4, 5), 1, 4)) "
   ]
  },
  {
   "cell_type": "code",
   "execution_count": 22,
   "id": "4833c205",
   "metadata": {},
   "outputs": [
    {
     "name": "stdout",
     "output_type": "stream",
     "text": [
      "Enter the first set of characters separated by commas: 1,2,3\n",
      "Enter the second set of characters separated by commas: 2,3,4,5\n",
      "{'3', '5', '2', '4', '1'}\n"
     ]
    }
   ],
   "source": [
    "#26.Prompt the user to input two sets of characters. Then, print the union of these two sets.\n",
    "\n",
    "\n",
    "def prompt_and_union():\n",
    "    set1 = set(input(\"Enter the first set of characters separated by commas: \").split(','))\n",
    "    set2 = set(input(\"Enter the second set of characters separated by commas: \").split(','))\n",
    "    print(set1 | set2)\n",
    "\n",
    "# Example usage:\n",
    "prompt_and_union()"
   ]
  },
  {
   "cell_type": "code",
   "execution_count": 23,
   "id": "d8b8f80b",
   "metadata": {},
   "outputs": [
    {
     "name": "stdout",
     "output_type": "stream",
     "text": [
      "(5, 1)\n"
     ]
    }
   ],
   "source": [
    "#27.Develop a code that takes a tuple of integers as input. The function should return the maximum and minimum values from the tuple using tuple unpacking.\n",
    "\n",
    "\n",
    "def max_and_min(t):\n",
    "    return max(t), min(t)\n",
    "\n",
    "# Example usage:\n",
    "print(max_and_min((1, 2, 3, 4, 5)))"
   ]
  },
  {
   "cell_type": "code",
   "execution_count": 24,
   "id": "861f6301",
   "metadata": {},
   "outputs": [
    {
     "name": "stdout",
     "output_type": "stream",
     "text": [
      "Union: {1, 2, 3, 4, 5}\n",
      "Intersection: {3}\n",
      "Difference: {1, 2}\n"
     ]
    }
   ],
   "source": [
    "#28.Create a code that defines two sets of integers. Then, print the union, intersection, and difference of these two sets.\n",
    "\n",
    "\n",
    "def set_operations():\n",
    "    set1 = {1, 2, 3}\n",
    "    set2 = {3, 4, 5}\n",
    "    print(\"Union:\", set1 | set2)\n",
    "    print(\"Intersection:\", set1 & set2)\n",
    "    print(\"Difference:\", set1 - set2)\n",
    "\n",
    "# Example usage:\n",
    "set_operations()\n"
   ]
  },
  {
   "cell_type": "code",
   "execution_count": 26,
   "id": "5d99a95f",
   "metadata": {},
   "outputs": [
    {
     "name": "stdout",
     "output_type": "stream",
     "text": [
      "4\n"
     ]
    }
   ],
   "source": [
    "#29.Write a code that takes a tuple and an element as input. The function should return the count of occurrences of the given element in the tuple.\n",
    "\n",
    "\n",
    "def count_element(t,element):\n",
    "    return t.count(element)\n",
    "\n",
    "#example:-\n",
    "print(count_element((1,2,3,3,1,1,2,5,6,1,7),1))"
   ]
  },
  {
   "cell_type": "code",
   "execution_count": 27,
   "id": "a9d834d9",
   "metadata": {},
   "outputs": [
    {
     "name": "stdout",
     "output_type": "stream",
     "text": [
      "Enter the first set of strings separated by commas: 1,2,3\n",
      "Enter the second set of strings separated by commas: 2,3,4,5\n",
      "{'5', '4', '1'}\n"
     ]
    }
   ],
   "source": [
    "#30.Develop a code that prompts the user to input two sets of strings. Then, print the symmetric difference of these two sets.\n",
    "\n",
    "\n",
    "def prompt_and_symmetric_difference():\n",
    "    set1 = set(input(\"Enter the first set of strings separated by commas: \").split(','))\n",
    "    set2 = set(input(\"Enter the second set of strings separated by commas: \").split(','))\n",
    "    print(set1 ^ set2)\n",
    "\n",
    "# Example usage:\n",
    "prompt_and_symmetric_difference()\n"
   ]
  },
  {
   "cell_type": "code",
   "execution_count": 28,
   "id": "f38c60b4",
   "metadata": {},
   "outputs": [
    {
     "name": "stdout",
     "output_type": "stream",
     "text": [
      "{'apple': 3, 'banana': 2, 'orange': 1}\n"
     ]
    }
   ],
   "source": [
    "#31.Write a code that takes a list of words as input and returns a dictionary where the keys are unique words and the values are the frequencies of those words in the input list.\n",
    "\n",
    "\n",
    "\n",
    "def word_frequencies(lst):\n",
    "    return {word: lst.count(word) for word in set(lst)}\n",
    "\n",
    "# Example usage:\n",
    "print(word_frequencies([\"apple\", \"banana\", \"apple\", \"orange\", \"banana\", \"apple\"]))  \n"
   ]
  },
  {
   "cell_type": "code",
   "execution_count": 29,
   "id": "bdc96af6",
   "metadata": {},
   "outputs": [
    {
     "name": "stdout",
     "output_type": "stream",
     "text": [
      "{'a': 1, 'b': 5, 'c': 4}\n"
     ]
    }
   ],
   "source": [
    "#32.Write a code that takes two dictionaries as input and merges them into a single dictionary. If there are common keys, the values should be added together.\n",
    "\n",
    "\n",
    "def merge_dictionaries(dict1, dict2):\n",
    "    merged = dict1.copy()\n",
    "    for k, v in dict2.items():\n",
    "        if k in merged:\n",
    "            merged[k] += v\n",
    "        else:\n",
    "            merged[k] = v\n",
    "    return merged\n",
    "\n",
    "# Example usage:\n",
    "print(merge_dictionaries({\"a\": 1, \"b\": 2}, {\"b\": 3, \"c\": 4})) "
   ]
  },
  {
   "cell_type": "code",
   "execution_count": 30,
   "id": "1256192f",
   "metadata": {},
   "outputs": [
    {
     "name": "stdout",
     "output_type": "stream",
     "text": [
      "42\n",
      "None\n"
     ]
    }
   ],
   "source": [
    "#33.Write a code to access a value in a nested dictionary. The function should take the dictionary and a list of keys as input and return the corresponding value. If any of the keys do not exist in the dictionary, the function should return None.\n",
    "\n",
    "\n",
    "def get_nested_value(d, keys):\n",
    "    for key in keys:\n",
    "        if isinstance(d, dict) and key in d:\n",
    "            d = d[key]\n",
    "        else:\n",
    "            return None\n",
    "    return d\n",
    "\n",
    "# Example usage:\n",
    "nested_dict = {\"a\": {\"b\": {\"c\": 42}}}\n",
    "print(get_nested_value(nested_dict, [\"a\", \"b\", \"c\"]))  \n",
    "print(get_nested_value(nested_dict, [\"a\", \"b\", \"d\"]))"
   ]
  },
  {
   "cell_type": "code",
   "execution_count": 31,
   "id": "e41bdb41",
   "metadata": {},
   "outputs": [
    {
     "name": "stdout",
     "output_type": "stream",
     "text": [
      "{'b': 1, 'c': 2, 'a': 3}\n"
     ]
    }
   ],
   "source": [
    "#34.Write a code that takes a dictionary as input and returns a sorted version of it based on the values. You can choose whether to sort in ascending or descending order.\n",
    "\n",
    "\n",
    "def sort_dict_by_values(d, ascending=True):\n",
    "    return dict(sorted(d.items(), key=lambda item: item[1], reverse=not ascending))\n",
    "\n",
    "# Example usage:\n",
    "print(sort_dict_by_values({\"a\": 3, \"b\": 1, \"c\": 2}, ascending=True)) \n"
   ]
  },
  {
   "cell_type": "code",
   "execution_count": 32,
   "id": "fac04299",
   "metadata": {},
   "outputs": [
    {
     "name": "stdout",
     "output_type": "stream",
     "text": [
      "{1: ['a', 'c'], 2: ['b']}\n"
     ]
    }
   ],
   "source": [
    "#35.Write a code that inverts a dictionary,swapping keys and values. Ensure that the inverted dictionary correctly handles cases where multiple keys have the same value by storing the keys as a list in the inverted dictionary.\n",
    "\n",
    "\n",
    "def invert_dictionary(d):\n",
    "    inverted = {}\n",
    "    for k, v in d.items():\n",
    "        if v in inverted:\n",
    "            inverted[v].append(k)\n",
    "        else:\n",
    "            inverted[v] = [k]\n",
    "    return inverted\n",
    "\n",
    "# Example usage:\n",
    "print(invert_dictionary({\"a\": 1, \"b\": 2, \"c\": 1}))"
   ]
  },
  {
   "cell_type": "code",
   "execution_count": null,
   "id": "be738b26",
   "metadata": {},
   "outputs": [],
   "source": []
  }
 ],
 "metadata": {
  "kernelspec": {
   "display_name": "Python 3 (ipykernel)",
   "language": "python",
   "name": "python3"
  },
  "language_info": {
   "codemirror_mode": {
    "name": "ipython",
    "version": 3
   },
   "file_extension": ".py",
   "mimetype": "text/x-python",
   "name": "python",
   "nbconvert_exporter": "python",
   "pygments_lexer": "ipython3",
   "version": "3.9.13"
  }
 },
 "nbformat": 4,
 "nbformat_minor": 5
}
